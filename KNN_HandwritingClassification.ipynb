{
  "nbformat": 4,
  "nbformat_minor": 0,
  "metadata": {
    "colab": {
      "name": "KNN-HandwritingClassification",
      "provenance": [],
      "collapsed_sections": [],
      "authorship_tag": "ABX9TyP9MBybxSYvwHA6MLRsn+08",
      "include_colab_link": true
    },
    "kernelspec": {
      "name": "python3",
      "display_name": "Python 3"
    }
  },
  "cells": [
    {
      "cell_type": "markdown",
      "metadata": {
        "id": "view-in-github",
        "colab_type": "text"
      },
      "source": [
        "<a href=\"https://colab.research.google.com/github/lotkun/ML-Bootcamp/blob/master/KNN_HandwritingClassification.ipynb\" target=\"_parent\"><img src=\"https://colab.research.google.com/assets/colab-badge.svg\" alt=\"Open In Colab\"/></a>"
      ]
    },
    {
      "cell_type": "code",
      "metadata": {
        "id": "lwHM-az-uFUV",
        "colab_type": "code",
        "colab": {}
      },
      "source": [
        "import numpy as np\n",
        "import matplotlib.pyplot as plt\n",
        "from sklearn.datasets import make_blobs\n",
        "from sklearn.model_selection import train_test_split\n",
        "from keras.preprocessing import image\n",
        "import os\n",
        "from tensorflow.keras.preprocessing.image import ImageDataGenerator\n",
        "from PIL import Image, ImageFilter"
      ],
      "execution_count": 123,
      "outputs": []
    },
    {
      "cell_type": "code",
      "metadata": {
        "id": "iHBmzOsPugBw",
        "colab_type": "code",
        "colab": {}
      },
      "source": [
        "data = np.load('/content/mnist_train_small.npy')"
      ],
      "execution_count": 138,
      "outputs": []
    },
    {
      "cell_type": "code",
      "metadata": {
        "id": "lGY0Qe6suuOe",
        "colab_type": "code",
        "colab": {
          "base_uri": "https://localhost:8080/",
          "height": 136
        },
        "outputId": "8feb3bd4-90e3-4769-8d02-5112c7e5363d"
      },
      "source": [
        "data"
      ],
      "execution_count": 8,
      "outputs": [
        {
          "output_type": "execute_result",
          "data": {
            "text/plain": [
              "array([[5, 0, 0, ..., 0, 0, 0],\n",
              "       [7, 0, 0, ..., 0, 0, 0],\n",
              "       [9, 0, 0, ..., 0, 0, 0],\n",
              "       ...,\n",
              "       [2, 0, 0, ..., 0, 0, 0],\n",
              "       [9, 0, 0, ..., 0, 0, 0],\n",
              "       [5, 0, 0, ..., 0, 0, 0]], dtype=uint8)"
            ]
          },
          "metadata": {
            "tags": []
          },
          "execution_count": 8
        }
      ]
    },
    {
      "cell_type": "code",
      "metadata": {
        "id": "_6d4l7ftvpiV",
        "colab_type": "code",
        "colab": {
          "base_uri": "https://localhost:8080/",
          "height": 34
        },
        "outputId": "7a692a0c-ed1c-4aa8-a13d-a2a914c3eaad"
      },
      "source": [
        "data.shape"
      ],
      "execution_count": 9,
      "outputs": [
        {
          "output_type": "execute_result",
          "data": {
            "text/plain": [
              "(19999, 785)"
            ]
          },
          "metadata": {
            "tags": []
          },
          "execution_count": 9
        }
      ]
    },
    {
      "cell_type": "code",
      "metadata": {
        "id": "YxNbSKVuxtIc",
        "colab_type": "code",
        "colab": {}
      },
      "source": [
        "X = data[:, 1:]\n",
        "y = data[:, 0]"
      ],
      "execution_count": 10,
      "outputs": []
    },
    {
      "cell_type": "code",
      "metadata": {
        "id": "jYDyoVCCySjl",
        "colab_type": "code",
        "colab": {
          "base_uri": "https://localhost:8080/",
          "height": 34
        },
        "outputId": "cd0df6f2-50b6-4cea-e503-aecbd2735853"
      },
      "source": [
        "X.shape, y.shape"
      ],
      "execution_count": 11,
      "outputs": [
        {
          "output_type": "execute_result",
          "data": {
            "text/plain": [
              "((19999, 784), (19999,))"
            ]
          },
          "metadata": {
            "tags": []
          },
          "execution_count": 11
        }
      ]
    },
    {
      "cell_type": "code",
      "metadata": {
        "id": "hbT72GRbyTlL",
        "colab_type": "code",
        "colab": {
          "base_uri": "https://localhost:8080/",
          "height": 282
        },
        "outputId": "d2108d10-f602-4854-e71b-386d74db3c4d"
      },
      "source": [
        "plt.imshow(X[0].reshape(28,28), cmap='gray')"
      ],
      "execution_count": 12,
      "outputs": [
        {
          "output_type": "execute_result",
          "data": {
            "text/plain": [
              "<matplotlib.image.AxesImage at 0x7fe4c6f652b0>"
            ]
          },
          "metadata": {
            "tags": []
          },
          "execution_count": 12
        },
        {
          "output_type": "display_data",
          "data": {
            "image/png": "[encoded data removed]",
            "text/plain": [
              "<Figure size 432x288 with 1 Axes>"
            ]
          },
          "metadata": {
            "tags": [],
            "needs_background": "light"
          }
        }
      ]
    },
    {
      "cell_type": "code",
      "metadata": {
        "id": "44cGQI8oypO-",
        "colab_type": "code",
        "colab": {
          "base_uri": "https://localhost:8080/",
          "height": 34
        },
        "outputId": "b4dd2ed4-9506-4085-e7e8-9bfb91aa6d11"
      },
      "source": [
        "y[0]"
      ],
      "execution_count": 13,
      "outputs": [
        {
          "output_type": "execute_result",
          "data": {
            "text/plain": [
              "5"
            ]
          },
          "metadata": {
            "tags": []
          },
          "execution_count": 13
        }
      ]
    },
    {
      "cell_type": "code",
      "metadata": {
        "id": "jti1hixUNpTn",
        "colab_type": "code",
        "colab": {}
      },
      "source": [
        " X_train, X_test, y_train, y_test = train_test_split( X, y, test_size=0.33, random_state=42)"
      ],
      "execution_count": 14,
      "outputs": []
    },
    {
      "cell_type": "code",
      "metadata": {
        "id": "z2U9uWEZNo0J",
        "colab_type": "code",
        "colab": {}
      },
      "source": [
        "from sklearn.neighbors import KNeighborsClassifier\n"
      ],
      "execution_count": 15,
      "outputs": []
    },
    {
      "cell_type": "code",
      "metadata": {
        "id": "CCuqNCZjNoUj",
        "colab_type": "code",
        "colab": {}
      },
      "source": [
        "model = KNeighborsClassifier()"
      ],
      "execution_count": 16,
      "outputs": []
    },
    {
      "cell_type": "code",
      "metadata": {
        "id": "tdBzMbhpNoIH",
        "colab_type": "code",
        "colab": {
          "base_uri": "https://localhost:8080/",
          "height": 68
        },
        "outputId": "7b71a82b-28e9-4684-802c-0e0278b3cf63"
      },
      "source": [
        "# training the model happens in fit function\n",
        "# plotting the point on the graph\n",
        "# no work is happening in training Knn model \n",
        "model.fit(X_train, y_train)"
      ],
      "execution_count": 17,
      "outputs": [
        {
          "output_type": "execute_result",
          "data": {
            "text/plain": [
              "KNeighborsClassifier(algorithm='auto', leaf_size=30, metric='minkowski',\n",
              "                     metric_params=None, n_jobs=None, n_neighbors=5, p=2,\n",
              "                     weights='uniform')"
            ]
          },
          "metadata": {
            "tags": []
          },
          "execution_count": 17
        }
      ]
    },
    {
      "cell_type": "code",
      "metadata": {
        "id": "kJK8lLp2O_CH",
        "colab_type": "code",
        "colab": {
          "base_uri": "https://localhost:8080/",
          "height": 34
        },
        "outputId": "2680ce25-182a-4f72-fd5d-bd8cc6a739d0"
      },
      "source": [
        "model.predict(X_test[:10])"
      ],
      "execution_count": 18,
      "outputs": [
        {
          "output_type": "execute_result",
          "data": {
            "text/plain": [
              "array([1, 7, 0, 9, 4, 5, 4, 6, 9, 2], dtype=uint8)"
            ]
          },
          "metadata": {
            "tags": []
          },
          "execution_count": 18
        }
      ]
    },
    {
      "cell_type": "code",
      "metadata": {
        "id": "LjNlR7ahO_qj",
        "colab_type": "code",
        "colab": {
          "base_uri": "https://localhost:8080/",
          "height": 34
        },
        "outputId": "fc60c269-62a5-4dfa-e4d3-a08edb02fbed"
      },
      "source": [
        "y_test[:10]"
      ],
      "execution_count": 19,
      "outputs": [
        {
          "output_type": "execute_result",
          "data": {
            "text/plain": [
              "array([7, 7, 0, 9, 4, 5, 4, 6, 9, 2], dtype=uint8)"
            ]
          },
          "metadata": {
            "tags": []
          },
          "execution_count": 19
        }
      ]
    },
    {
      "cell_type": "code",
      "metadata": {
        "id": "Mz8cVu3WO_4H",
        "colab_type": "code",
        "colab": {
          "base_uri": "https://localhost:8080/",
          "height": 282
        },
        "outputId": "f823223f-7e2f-4ada-e709-28a5553380fb"
      },
      "source": [
        "plt.imshow(X_test[2].reshape(28,28), cmap='gray')"
      ],
      "execution_count": 20,
      "outputs": [
        {
          "output_type": "execute_result",
          "data": {
            "text/plain": [
              "<matplotlib.image.AxesImage at 0x7fe4c4795208>"
            ]
          },
          "metadata": {
            "tags": []
          },
          "execution_count": 20
        },
        {
          "output_type": "display_data",
          "data": {
            "image/png": "[encoded data removed]",
            "text/plain": [
              "<Figure size 432x288 with 1 Axes>"
            ]
          },
          "metadata": {
            "tags": [],
            "needs_background": "light"
          }
        }
      ]
    },
    {
      "cell_type": "code",
      "metadata": {
        "id": "FNdm85HWO_e7",
        "colab_type": "code",
        "colab": {
          "base_uri": "https://localhost:8080/",
          "height": 34
        },
        "outputId": "dd3ebe89-43df-44c3-c0e7-619e7982dabe"
      },
      "source": [
        "model.score(X_test[:100], y_test[:100])"
      ],
      "execution_count": 21,
      "outputs": [
        {
          "output_type": "execute_result",
          "data": {
            "text/plain": [
              "0.95"
            ]
          },
          "metadata": {
            "tags": []
          },
          "execution_count": 21
        }
      ]
    },
    {
      "cell_type": "markdown",
      "metadata": {
        "id": "E5nIXPzcXykM",
        "colab_type": "text"
      },
      "source": [
        "## Custom KNN - KNN implementation from scratch!\n"
      ]
    },
    {
      "cell_type": "code",
      "metadata": {
        "id": "EHnjNV9BO-0F",
        "colab_type": "code",
        "colab": {}
      },
      "source": [
        "class CustomKNN:\n",
        "  # constructor\n",
        "  def __init__(self, n_neighbours = 5):\n",
        "    self.n_neighbours = n_neighbours\n",
        "  \n",
        "  # training function\n",
        "  def fit(self, X, y):\n",
        "    self._X = (X - X.mean()) / X.std() # standardisation\n",
        "    self._y = y\n",
        "  \n",
        "  # predict point\n",
        "  # given a single point, tell me which class it belongs to\n",
        "  def predict_point(self, point):\n",
        "    #storing the dist of given 'point from each poin in training data\n",
        "    list_dist = []\n",
        "\n",
        "    # these point are from my training data\n",
        "    for x_point, y_point in zip(self._X, self._y):\n",
        "      dist_point = ((point - x_point) ** 2).sum()\n",
        "      list_dist.append([dist_point, y_point])\n",
        "\n",
        "    ## sorting the list according to the distance\n",
        "    sorted_dist = sorted(list_dist)\n",
        "    top_k = sorted_dist[:self.n_neighbours]\n",
        "\n",
        "    #taking th count\n",
        "    items, counts = np.unique(np.array(top_k)[:, 1], return_counts=True)\n",
        "    ans = items[np.argmax(counts)]\n",
        "    return ans\n",
        "\n",
        "  \n",
        "  # predict\n",
        "  # give me answer for each number in the array\n",
        "  def predict(self, X):\n",
        "    results = []\n",
        "    X = (X - X.mean()) / X.std()\n",
        "    for point in X:\n",
        "      results.append(self.predict_point(point))\n",
        "    return np.array(results, dtype=int)\n",
        "\n",
        "  # score to measure my accuracy\n",
        "  def score(self, X, y):\n",
        "      return sum(self.predict(X) == y) / len(y)"
      ],
      "execution_count": 22,
      "outputs": []
    },
    {
      "cell_type": "code",
      "metadata": {
        "id": "_2-ZP-9YXwO9",
        "colab_type": "code",
        "colab": {}
      },
      "source": [
        "m2 = CustomKNN()"
      ],
      "execution_count": 23,
      "outputs": []
    },
    {
      "cell_type": "code",
      "metadata": {
        "id": "F6qUp16cXwxS",
        "colab_type": "code",
        "colab": {}
      },
      "source": [
        "m2.fit(X_train, y_train)"
      ],
      "execution_count": 24,
      "outputs": []
    },
    {
      "cell_type": "code",
      "metadata": {
        "id": "e8F3hfc3XxNE",
        "colab_type": "code",
        "colab": {
          "base_uri": "https://localhost:8080/",
          "height": 34
        },
        "outputId": "eb46c63b-89e4-4666-b55e-fd403e9ffa5e"
      },
      "source": [
        "m2.predict(X_test[:10])"
      ],
      "execution_count": 25,
      "outputs": [
        {
          "output_type": "execute_result",
          "data": {
            "text/plain": [
              "array([1, 7, 0, 9, 4, 5, 4, 6, 9, 2])"
            ]
          },
          "metadata": {
            "tags": []
          },
          "execution_count": 25
        }
      ]
    },
    {
      "cell_type": "code",
      "metadata": {
        "id": "uQoVb9HMXxCt",
        "colab_type": "code",
        "colab": {
          "base_uri": "https://localhost:8080/",
          "height": 34
        },
        "outputId": "2f60881d-41e6-4b5a-a772-f9899433ee43"
      },
      "source": [
        "y_test[:10]"
      ],
      "execution_count": 26,
      "outputs": [
        {
          "output_type": "execute_result",
          "data": {
            "text/plain": [
              "array([7, 7, 0, 9, 4, 5, 4, 6, 9, 2], dtype=uint8)"
            ]
          },
          "metadata": {
            "tags": []
          },
          "execution_count": 26
        }
      ]
    },
    {
      "cell_type": "code",
      "metadata": {
        "id": "mgzf9H_lXwnZ",
        "colab_type": "code",
        "colab": {
          "base_uri": "https://localhost:8080/",
          "height": 34
        },
        "outputId": "f04c64e8-16ad-45aa-b006-af9ffd0a53d8"
      },
      "source": [
        "m2.score(X_test[:100], y_test[:100])"
      ],
      "execution_count": 27,
      "outputs": [
        {
          "output_type": "execute_result",
          "data": {
            "text/plain": [
              "0.95"
            ]
          },
          "metadata": {
            "tags": []
          },
          "execution_count": 27
        }
      ]
    },
    {
      "cell_type": "markdown",
      "metadata": {
        "id": "jySMiGGSmYHg",
        "colab_type": "text"
      },
      "source": [
        "# Some tests"
      ]
    },
    {
      "cell_type": "code",
      "metadata": {
        "id": "Aiee__Weys-n",
        "colab_type": "code",
        "colab": {}
      },
      "source": [
        "X, y = make_blobs(n_samples=100, centers=3, random_state=42)"
      ],
      "execution_count": 28,
      "outputs": []
    },
    {
      "cell_type": "code",
      "metadata": {
        "id": "RMkdXcNZ1IQc",
        "colab_type": "code",
        "colab": {
          "base_uri": "https://localhost:8080/",
          "height": 282
        },
        "outputId": "40a132ed-dc81-4e50-81ec-0162a46f7c27"
      },
      "source": [
        "plt.scatter(X[:, 0], X[:, 1], c=y)"
      ],
      "execution_count": 29,
      "outputs": [
        {
          "output_type": "execute_result",
          "data": {
            "text/plain": [
              "<matplotlib.collections.PathCollection at 0x7fe4c70c6978>"
            ]
          },
          "metadata": {
            "tags": []
          },
          "execution_count": 29
        },
        {
          "output_type": "display_data",
          "data": {
            "image/png": "[encoded data removed]",
            "text/plain": [
              "<Figure size 432x288 with 1 Axes>"
            ]
          },
          "metadata": {
            "tags": [],
            "needs_background": "light"
          }
        }
      ]
    },
    {
      "cell_type": "code",
      "metadata": {
        "id": "aw-p64Ca1RvH",
        "colab_type": "code",
        "colab": {
          "base_uri": "https://localhost:8080/",
          "height": 1000
        },
        "outputId": "d32a874b-c92f-4b99-8b7b-b9f5d22ebce1"
      },
      "source": [
        "X"
      ],
      "execution_count": 30,
      "outputs": [
        {
          "output_type": "execute_result",
          "data": {
            "text/plain": [
              "array([[-7.72642091, -8.39495682],\n",
              "       [ 5.45339605,  0.74230537],\n",
              "       [-2.97867201,  9.55684617],\n",
              "       [ 6.04267315,  0.57131862],\n",
              "       [-6.52183983, -6.31932507],\n",
              "       [ 3.64934251,  1.40687195],\n",
              "       [-2.17793419,  9.98983126],\n",
              "       [ 4.42020695,  2.33028226],\n",
              "       [ 4.73695639,  2.94181467],\n",
              "       [-3.6601912 ,  9.38998415],\n",
              "       [-3.05358035,  9.12520872],\n",
              "       [-6.65216726, -5.57296684],\n",
              "       [-6.35768563, -6.58312492],\n",
              "       [-3.6155326 ,  7.8180795 ],\n",
              "       [-1.77073104,  9.18565441],\n",
              "       [-7.95051969, -6.39763718],\n",
              "       [-6.60293639, -6.05292634],\n",
              "       [-2.58120774, 10.01781903],\n",
              "       [-7.76348463, -6.72638449],\n",
              "       [-6.40638957, -6.95293851],\n",
              "       [-2.97261532,  8.54855637],\n",
              "       [-6.9567289 , -6.53895762],\n",
              "       [-7.32614214, -6.0237108 ],\n",
              "       [-2.14780202, 10.55232269],\n",
              "       [-2.54502366, 10.57892978],\n",
              "       [-2.96983639, 10.07140835],\n",
              "       [ 3.22450809,  1.55252436],\n",
              "       [-6.25395984, -7.73726715],\n",
              "       [-7.85430886, -6.09302499],\n",
              "       [-8.1165779 , -8.20056621],\n",
              "       [-7.55965191, -6.6478559 ],\n",
              "       [ 4.93599911,  2.23422496],\n",
              "       [ 4.44751787,  2.27471703],\n",
              "       [-5.72103161, -7.70079191],\n",
              "       [-0.92998481,  9.78172086],\n",
              "       [-3.10983631,  8.72259238],\n",
              "       [-2.44166942,  7.58953794],\n",
              "       [-2.18511365,  8.62920385],\n",
              "       [ 5.55528095,  2.30192079],\n",
              "       [ 4.73163961, -0.01439923],\n",
              "       [-8.25729656, -7.81793463],\n",
              "       [-2.98837186,  8.82862715],\n",
              "       [ 4.60516707,  0.80449165],\n",
              "       [-3.83738367,  9.21114736],\n",
              "       [-2.62484591,  8.71318243],\n",
              "       [ 3.57757512,  2.44676211],\n",
              "       [-8.48711043, -6.69547573],\n",
              "       [-6.70644627, -6.49479221],\n",
              "       [-6.8666253 , -5.42657552],\n",
              "       [ 3.83138523,  1.47141264],\n",
              "       [ 2.02013373,  2.79507219],\n",
              "       [ 4.64499229,  1.73858255],\n",
              "       [-1.6966718 , 10.37052616],\n",
              "       [-6.6197444 , -6.09828672],\n",
              "       [-6.05756703, -4.98331661],\n",
              "       [-7.10308998, -6.1661091 ],\n",
              "       [-3.52202874,  9.32853346],\n",
              "       [-2.26723535,  7.10100588],\n",
              "       [ 6.11777288,  1.45489947],\n",
              "       [-4.23411546,  8.4519986 ],\n",
              "       [-6.58655472, -7.59446101],\n",
              "       [ 3.93782574,  1.64550754],\n",
              "       [-7.12501531, -7.63384576],\n",
              "       [ 2.72110762,  1.94665581],\n",
              "       [-7.14428402, -4.15994043],\n",
              "       [-6.66553345, -8.12584837],\n",
              "       [ 4.70010905,  4.4364118 ],\n",
              "       [-7.76914162, -7.69591988],\n",
              "       [ 4.11011863,  2.48643712],\n",
              "       [ 4.89742923,  1.89872377],\n",
              "       [ 4.29716432,  1.17089241],\n",
              "       [-6.62913434, -6.53366138],\n",
              "       [-8.07093069, -6.22355598],\n",
              "       [-2.16557933,  7.25124597],\n",
              "       [ 4.7395302 ,  1.46969403],\n",
              "       [-5.91625106, -6.46732867],\n",
              "       [ 5.43091078,  1.06378223],\n",
              "       [-6.82141847, -8.02307989],\n",
              "       [ 6.52606474,  2.1477475 ],\n",
              "       [ 3.08921541,  2.04173266],\n",
              "       [-2.1475616 ,  8.36916637],\n",
              "       [ 3.85662554,  1.65110817],\n",
              "       [-1.68665271,  7.79344248],\n",
              "       [-5.01385268, -6.40627667],\n",
              "       [-2.52269485,  7.9565752 ],\n",
              "       [-2.30033403,  7.054616  ],\n",
              "       [-1.04354885,  8.78850983],\n",
              "       [ 3.7204546 ,  3.52310409],\n",
              "       [-3.98771961,  8.29444192],\n",
              "       [ 4.24777068,  0.50965474],\n",
              "       [ 4.7269259 ,  1.67416233],\n",
              "       [ 5.78270165,  2.72510272],\n",
              "       [-3.4172217 ,  7.60198243],\n",
              "       [ 5.22673593,  4.16362531],\n",
              "       [-3.11090424, 10.86656431],\n",
              "       [-3.18611962,  9.62596242],\n",
              "       [-1.4781981 ,  9.94556625],\n",
              "       [ 4.47859312,  2.37722054],\n",
              "       [-5.79657595, -5.82630754],\n",
              "       [-3.34841515,  8.70507375]])"
            ]
          },
          "metadata": {
            "tags": []
          },
          "execution_count": 30
        }
      ]
    },
    {
      "cell_type": "code",
      "metadata": {
        "id": "4Xc0TnSO1YO-",
        "colab_type": "code",
        "colab": {
          "base_uri": "https://localhost:8080/",
          "height": 85
        },
        "outputId": "5c167537-2e8a-4968-f923-b454865f94fc"
      },
      "source": [
        "X[:4], y[:4]"
      ],
      "execution_count": 31,
      "outputs": [
        {
          "output_type": "execute_result",
          "data": {
            "text/plain": [
              "(array([[-7.72642091, -8.39495682],\n",
              "        [ 5.45339605,  0.74230537],\n",
              "        [-2.97867201,  9.55684617],\n",
              "        [ 6.04267315,  0.57131862]]), array([2, 1, 0, 1]))"
            ]
          },
          "metadata": {
            "tags": []
          },
          "execution_count": 31
        }
      ]
    },
    {
      "cell_type": "code",
      "metadata": {
        "id": "i00iC29k1_A7",
        "colab_type": "code",
        "colab": {}
      },
      "source": [
        "li = [\n",
        "    [23,0],\n",
        "    [45,1],\n",
        "    [19,0],\n",
        "    [3,2],\n",
        "    [10,0],\n",
        "    [34,2],\n",
        "    [100, 1]\n",
        "]"
      ],
      "execution_count": 32,
      "outputs": []
    },
    {
      "cell_type": "code",
      "metadata": {
        "id": "lb6TBcUQf5Z8",
        "colab_type": "code",
        "colab": {}
      },
      "source": [
        "sorted_li = sorted(li)"
      ],
      "execution_count": 33,
      "outputs": []
    },
    {
      "cell_type": "code",
      "metadata": {
        "id": "NTaPJFfwf7i2",
        "colab_type": "code",
        "colab": {}
      },
      "source": [
        "##sorted(li, key=lambda x: x[1])\n"
      ],
      "execution_count": 34,
      "outputs": []
    },
    {
      "cell_type": "code",
      "metadata": {
        "id": "Argr2RJ4iTKp",
        "colab_type": "code",
        "colab": {}
      },
      "source": [
        "top_k = sorted_li[:5]"
      ],
      "execution_count": 35,
      "outputs": []
    },
    {
      "cell_type": "code",
      "metadata": {
        "id": "nd3mR0FLgF2R",
        "colab_type": "code",
        "colab": {}
      },
      "source": [
        "li, counts = np.unique(np.array(top_k)[:, 1], return_counts=True)"
      ],
      "execution_count": 36,
      "outputs": []
    },
    {
      "cell_type": "code",
      "metadata": {
        "id": "lve9t97UjNbm",
        "colab_type": "code",
        "colab": {
          "base_uri": "https://localhost:8080/",
          "height": 34
        },
        "outputId": "a521d8ed-6d89-4665-dea5-de3cf79b742a"
      },
      "source": [
        "np.argmax(counts)"
      ],
      "execution_count": 37,
      "outputs": [
        {
          "output_type": "execute_result",
          "data": {
            "text/plain": [
              "0"
            ]
          },
          "metadata": {
            "tags": []
          },
          "execution_count": 37
        }
      ]
    },
    {
      "cell_type": "code",
      "metadata": {
        "id": "37JNej53iodV",
        "colab_type": "code",
        "colab": {
          "base_uri": "https://localhost:8080/",
          "height": 34
        },
        "outputId": "0a3ae5ee-68f8-4e65-b288-4ad91c185676"
      },
      "source": [
        "li, counts"
      ],
      "execution_count": 38,
      "outputs": [
        {
          "output_type": "execute_result",
          "data": {
            "text/plain": [
              "(array([0, 2]), array([3, 2]))"
            ]
          },
          "metadata": {
            "tags": []
          },
          "execution_count": 38
        }
      ]
    },
    {
      "cell_type": "code",
      "metadata": {
        "id": "qjAfRupJjZE4",
        "colab_type": "code",
        "colab": {}
      },
      "source": [
        ""
      ],
      "execution_count": 38,
      "outputs": []
    },
    {
      "cell_type": "markdown",
      "metadata": {
        "id": "bWiqHPbZA3cr",
        "colab_type": "text"
      },
      "source": [
        "## Convert an image to  MNIST "
      ]
    },
    {
      "cell_type": "code",
      "metadata": {
        "id": "CMwyelsHA-n5",
        "colab_type": "code",
        "colab": {}
      },
      "source": [
        "def imageprepare(argv):\n",
        "    \"\"\"\n",
        "    This function returns the pixel values.\n",
        "    The imput is a png file location.\n",
        "    \"\"\"\n",
        "    im = Image.open(argv).convert('L')\n",
        "    width = float(im.size[0])\n",
        "    height = float(im.size[1])\n",
        "    newImage = Image.new('L', (28, 28), (255))  # creates white canvas of 28x28 pixels\n",
        "\n",
        "    if width > height:  # check which dimension is bigger\n",
        "        # Width is bigger. Width becomes 20 pixels.\n",
        "        nheight = int(round((20.0 / width * height), 0))  # resize height according to ratio width\n",
        "        if (nheight == 0):  # rare case but minimum is 1 pixel\n",
        "            nheight = 1\n",
        "            # resize and sharpen\n",
        "        img = im.resize((20, nheight), Image.ANTIALIAS).filter(ImageFilter.SHARPEN)\n",
        "        wtop = int(round(((28 - nheight) / 2), 0))  # calculate horizontal position\n",
        "        newImage.paste(img, (4, wtop))  # paste resized image on white canvas\n",
        "    else:\n",
        "        # Height is bigger. Heigth becomes 20 pixels.\n",
        "        nwidth = int(round((20.0 / height * width), 0))  # resize width according to ratio height\n",
        "        if (nwidth == 0):  # rare case but minimum is 1 pixel\n",
        "            nwidth = 1\n",
        "            # resize and sharpen\n",
        "        img = im.resize((nwidth, 20), Image.ANTIALIAS).filter(ImageFilter.SHARPEN)\n",
        "        wleft = int(round(((28 - nwidth) / 2), 0))  # caculate vertical pozition\n",
        "        newImage.paste(img, (wleft, 4))  # paste resized image on white canvas\n",
        "\n",
        "    # newImage.save(\"sample.png\n",
        "\n",
        "    tv = list(newImage.getdata())  # get pixel values\n",
        "\n",
        "    # normalize pixels to 0 and 1. 0 is pure white, 1 is pure black.\n",
        "    tva = [(255 - x) * 1.0 / 255.0 for x in tv]\n",
        "    print(tva)\n",
        "    return tva\n",
        "\n",
        "x=[imageprepare('/content/eight.png')]#file path here\n",
        "print(len(x))# mnist IMAGES are 28x28=784 pixels\n",
        "print(x[0])\n",
        "#Now we convert 784 sized 1d array to 24x24 sized 2d array so that we can visualize it\n",
        "newArr=[[0 for d in range(28)] for y in range(28)]\n",
        "k = 0\n",
        "for i in range(28):\n",
        "    for j in range(28):\n",
        "        newArr[i][j]=x[0][k]\n",
        "        k=k+1\n",
        "\n",
        "for i in range(28):\n",
        "    for j in range(28):\n",
        "        print(newArr[i][j])\n",
        "        # print(' , ')\n",
        "    print('\\n')\n",
        "\n",
        "\n",
        "plt.imshow(newArr, interpolation='nearest', cmap='gray')\n",
        "plt.savefig('neweight.png')#save MNIST image\n",
        "plt.show()#Show / plot that image\n"
      ],
      "execution_count": null,
      "outputs": []
    },
    {
      "cell_type": "code",
      "metadata": {
        "id": "0Nh0W7VzFLGC",
        "colab_type": "code",
        "colab": {
          "base_uri": "https://localhost:8080/",
          "height": 282
        },
        "outputId": "792e5cfc-4398-47b1-b394-c9ee74f42f9b"
      },
      "source": [
        "plt.imshow(newArr, cmap='gray')"
      ],
      "execution_count": 127,
      "outputs": [
        {
          "output_type": "execute_result",
          "data": {
            "text/plain": [
              "<matplotlib.image.AxesImage at 0x7fe4c3a6bac8>"
            ]
          },
          "metadata": {
            "tags": []
          },
          "execution_count": 127
        },
        {
          "output_type": "display_data",
          "data": {
            "image/png": "[encoded data removed]",
            "text/plain": [
              "<Figure size 432x288 with 1 Axes>"
            ]
          },
          "metadata": {
            "tags": [],
            "needs_background": "light"
          }
        }
      ]
    },
    {
      "cell_type": "code",
      "metadata": {
        "id": "lR3sVmpaKhoz",
        "colab_type": "code",
        "colab": {
          "base_uri": "https://localhost:8080/",
          "height": 34
        },
        "outputId": "898f70ad-e8c2-4f8c-e241-47eec0844cb5"
      },
      "source": [
        "from keras.preprocessing.image import load_img\n",
        "from keras.preprocessing.image import img_to_array\n",
        "from keras.models import load_model\n",
        " \n",
        "# load and prepare the image\n",
        "def load_image(filename):\n",
        "\t# load the image\n",
        "\timg = load_img(filename, color_mode = \"grayscale\", target_size=(28, 28))\n",
        "\t# convert to array\n",
        "\timg = img_to_array(img)\n",
        "\t# reshape into a single sample with 1 channel\n",
        "\timg = img.reshape(1,28, 28,1)\n",
        "\t# prepare pixel data\n",
        "\timg = img.astype('float32')\n",
        "\timg = img / 255.0\n",
        "\treturn img\n",
        " \n",
        "# load an image and predict the class\n",
        "def run_example():\n",
        "\t# load the image\n",
        "\timg = load_image('neweight.png')\n",
        "\n",
        "\t\n",
        "\t# predict the class\n",
        "\tdigit = m2.predict(img)\n",
        "\tprint(digit[0])\n",
        " \n",
        "# entry point, run the example\n",
        "run_example()"
      ],
      "execution_count": 132,
      "outputs": [
        {
          "output_type": "stream",
          "text": [
            "1\n"
          ],
          "name": "stdout"
        }
      ]
    },
    {
      "cell_type": "code",
      "metadata": {
        "id": "QijhqZETUsJi",
        "colab_type": "code",
        "colab": {}
      },
      "source": [
        ""
      ],
      "execution_count": null,
      "outputs": []
    }
  ]
}